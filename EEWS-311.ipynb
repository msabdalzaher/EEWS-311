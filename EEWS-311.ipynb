{
 "cells": [
  {
   "cell_type": "code",
   "execution_count": null,
   "metadata": {},
   "outputs": [],
   "source": [
    "import numpy as np\n",
    "import pandas as pd\n",
    "import keras\n",
    "from keras.layers import Input, Dense, Conv1D, Conv2D, MaxPooling1D, MaxPooling2D, Flatten, UpSampling1D, Reshape, Dropout\n",
    "from keras.models import Model, load_model\n",
    "import scipy.io\n",
    "from sklearn.preprocessing import RobustScaler, MinMaxScaler\n",
    "import matplotlib.pyplot as plt\n",
    "from tensorflow.keras import backend as K\n",
    "from sklearn.model_selection import train_test_split\n",
    "import h5py\n",
    "\n",
    "import tensorflow as tf\n",
    "import keras.backend as K\n",
    "\n",
    "from tensorflow.keras.layers import Input, SimpleRNN, Dense, Bidirectional ,Dropout, Add, multiply, GlobalAvgPool1D, Reshape, concatenate, UpSampling1D, Flatten, MaxPooling1D, BatchNormalization, average, Conv1D\n",
    "from tensorflow.keras.models import Model\n",
    "from tensorflow.keras import optimizers\n",
    "from tensorflow.keras.callbacks import EarlyStopping\n",
    "from math import*\n",
    "from tensorflow.keras.callbacks import EarlyStopping,ModelCheckpoint\n",
    "\n",
    "from tensorflow import keras\n",
    "from tensorflow.keras import layers\n",
    "from tensorflow.python.ops.math_ops import reduce_prod"
   ]
  },
  {
   "cell_type": "code",
   "execution_count": null,
   "metadata": {},
   "outputs": [],
   "source": [
    "mat = scipy.io.loadmat('labels.mat')\n",
    "\n",
    "\n",
    "label_lat = mat['latit_arr']\n",
    "label_long = mat['longit_arr']\n",
    "label_mag = mat['magnitude_arr']\n",
    "\n",
    "\n",
    "label_lat = pd.DataFrame(label_lat.T)\n",
    "label_long = pd.DataFrame(label_long.T)\n",
    "label_mag = pd.DataFrame(label_mag.T)\n",
    "# print(label_lat.T.shape)\n",
    "# print(label_long.T.shape)\n",
    "# print(label_mag.T.shape)\n",
    "\n",
    "label = np.array([label_lat, label_long, label_mag, label_depth]).T\n",
    "label = label.reshape(len(label[0]),3)\n",
    "\n",
    "print(label.shape)\n",
    "print(label)"
   ]
  },
  {
   "cell_type": "code",
   "execution_count": null,
   "metadata": {},
   "outputs": [],
   "source": [
    "factor = pd.read_csv(r'dataset.csv')"
   ]
  },
  {
   "cell_type": "code",
   "execution_count": null,
   "metadata": {},
   "outputs": [],
   "source": [
    "print(type(factor))\n",
    "print(factor.shape)"
   ]
  },
  {
   "cell_type": "code",
   "execution_count": null,
   "metadata": {},
   "outputs": [],
   "source": [
    "factor1 = np.array(factor)\n",
    "factor1.shape\n",
    "len(factor1)"
   ]
  },
  {
   "cell_type": "code",
   "execution_count": null,
   "metadata": {},
   "outputs": [],
   "source": [
    "selected_rows1 = factor1[5::9]"
   ]
  },
  {
   "cell_type": "code",
   "execution_count": null,
   "metadata": {},
   "outputs": [],
   "source": [
    "print(selected_rows1.shape)"
   ]
  },
  {
   "cell_type": "code",
   "execution_count": null,
   "metadata": {},
   "outputs": [],
   "source": [
    "# Define a custom cosine similarity metric\n",
    "def cosine_similarity(y_true, y_pred):\n",
    "    y_true = K.l2_normalize(y_true, axis=-1)\n",
    "    y_pred = K.l2_normalize(y_pred, axis=-1)\n",
    "    return K.sum(y_true * y_pred, axis=-1)"
   ]
  },
  {
   "cell_type": "code",
   "execution_count": null,
   "metadata": {},
   "outputs": [],
   "source": [
    "''' \n",
    "#from tensorflow.keras.layers import *\n",
    "#from tensorflow.keras.layers import SimpleRNN\n",
    "from tensorflow.keras.models import Sequential\n",
    "\n",
    "from tensorflow.keras.layers import Dense, SimpleRNN, LSTM, TimeDistributed, Bidirectional\n",
    "\n",
    "def create_RNN(hidden_units, input_shape, activation):\n",
    "    model = Sequential()\n",
    "    model.add(SimpleRNN(15, input_shape=(15,10), \n",
    "                        activation='linear',return_sequences=True))\n",
    "    #model.add(Dense(units=dense_units, activation=activation[1]))\n",
    "    model.compile(loss='mean_squared_error', optimizer='adam')\n",
    "    return model\n",
    " \n",
    "demo_model = create_RNN(15,(15,10), activation=['linear', 'linear'])\n",
    "\n",
    "demo_model.summary()\n",
    "#model = Model(inputs=inp, outputs=C1)\n",
    "#model.summary()\n",
    "'''"
   ]
  },
  {
   "cell_type": "code",
   "execution_count": null,
   "metadata": {},
   "outputs": [],
   "source": [
    "label_lat =label[:,0]\n",
    "print(label_lat.shape)\n",
    "\n",
    "label_long =label[:,1]\n",
    "print(label_long.shape)\n",
    "\n",
    "label_mag =label[:,2]\n",
    "print(label_mag.shape)\n",
    "\n",
    "\n",
    "label_lat = np.reshape(label_lat,(len(label_lat),1))\n",
    "label_long = np.reshape(label_long,(len(label_long),1))\n",
    "label_mag = np.reshape(label_mag,(len(label_mag),1))\n",
    "\n",
    "min_lat = np.min(label_lat, axis=0)\n",
    "max_lat = np.max(label_lat, axis=0)\n",
    "\n",
    "min_long = np.min(label_long, axis=0)\n",
    "max_long = np.max(label_long, axis=0)\n",
    "\n",
    "min_mag = np.min(label_mag, axis=0)\n",
    "max_mag = np.max(label_mag, axis=0)\n",
    "\n",
    "\n",
    "print(min_lat)\n",
    "print(max_lat)\n",
    "print(min_long)\n",
    "print(max_long)\n",
    "print(min_mag)\n",
    "print(max_mag)\n",
    "\n",
    "# Normalize the labels to the [0, 1] range\n",
    "label_lat_norm = (label_lat - min_lat) / (max_lat - min_lat)\n",
    "print(label_lat_norm)\n",
    "\n",
    "label_long_norm = (label_long - min_long) / (max_long - min_long)\n",
    "print(label_long_norm)\n",
    "\n",
    "label_mag_norm = (label_mag - min_mag) / (max_mag - min_mag)\n",
    "print(label_mag_norm)"
   ]
  },
  {
   "cell_type": "code",
   "execution_count": null,
   "metadata": {},
   "outputs": [],
   "source": [
    "label_norm = np.concatenate((label_lat_norm, label_long_norm, label_mag_norm), axis=1)\n",
    "label_norm.shape"
   ]
  },
  {
   "cell_type": "code",
   "execution_count": null,
   "metadata": {},
   "outputs": [],
   "source": [
    "features =  np.reshape(selected_rows1, (len(selected_rows1), 1,  selected_rows1.shape[1],1))\n",
    "print(features.shape)\n",
    "\n",
    "features_train, features_test, label_train, label_test = train_test_split( features, label_norm,  test_size=0.2, random_state=1)"
   ]
  },
  {
   "cell_type": "code",
   "execution_count": null,
   "metadata": {},
   "outputs": [],
   "source": [
    "dataInput__train_1 = features_train[:,0:-1]\n",
    "dataInput__train_2 = features_train[:,-1]\n",
    "\n",
    "dataInput__valid_1 = features_test[:,0:-1]\n",
    "dataInput__valid_2 = features_test[:,-1]\n",
    "\n",
    "print(dataInput__train_1.shape)\n",
    "print(dataInput__train_2.shape)\n",
    "print(dataInput__valid_1.shape)\n",
    "print(dataInput__valid_2.shape)\n"
   ]
  },
  {
   "cell_type": "code",
   "execution_count": null,
   "metadata": {},
   "outputs": [],
   "source": [
    "dataInput_reshape__1 = np.reshape(dataInput__train_1,(dataInput__train_1.shape[0],1,dataInput__train_1.shape[1],1))\n",
    "# print(dataInput_reshape__1.shape)\n",
    "\n",
    "dataInput_reshape_val__1 = np.reshape(dataInput__valid_1,(dataInput__valid_1.shape[0],1,dataInput__valid_1.shape[1],1))\n",
    "# print(dataInput_reshape_val__1.shape)\n",
    "\n",
    "dataInput_reshape2__1 = np.reshape(dataInput__train_2,(dataInput__train_2.shape[0],1,1))\n",
    "# print(dataInput_reshape2__1.shape)\n",
    "\n",
    "dataInput_reshape2_val__1 = np.reshape(dataInput__valid_2,(dataInput__valid_2.shape[0],1,1))\n",
    "# print(dataInput_reshape2_val__1.shape)"
   ]
  },
  {
   "cell_type": "code",
   "execution_count": null,
   "metadata": {},
   "outputs": [],
   "source": [
    "input_sig1__1 = Input(batch_shape=(None,1,401,1))\n",
    "input_sig2__1 = Input(batch_shape=(None,1,1,1))\n",
    "\n",
    "############################################################################\n",
    "##                                 CNN\n",
    "\n",
    "conv__input_sig2__1 = Conv2D(filters=128, kernel_size=(1, 1))(input_sig2__1)\n",
    "\n",
    "x = Conv2D(256,(3,1), activation='relu', padding='same')(input_sig1__1)\n",
    "# Dropout(0.3)\n",
    "# x1 = MaxPooling2D(1,3)(x)\n",
    "x2 = Conv2D(64,(3,1), activation='relu', padding='same')(x)\n",
    "# Dropout(0.3)\n",
    "# x3 = MaxPooling2D(1,3)(x2)\n",
    "x4 = Conv2D(64,(3,1), activation='relu', padding='same')(x2)\n",
    "# Dropout(0.3)\n",
    "x5 = Conv2D(32,(3,1), activation='relu', padding='same')(x4)\n",
    "# Dropout(0.3)###\n",
    "\n",
    "\n",
    "x6 = Conv2D(64,(3,1), activation='relu', padding='same')(x5)\n",
    "# Dropout(0.3)\n",
    "\n",
    "xa = Conv2D(64,(3,1), activation='relu', padding='same')(x6)#####\n",
    "\n",
    "x7 = Conv2D(128,(3,1), activation='relu', padding='same')(xa)\n",
    "\n",
    "x8 = concatenate([x7, conv__input_sig2__1], axis=2)\n",
    "\n",
    "inp_bilstm = layers.Reshape((402, 128))(x8)\n",
    "\n",
    "\n",
    "############################################################################\n",
    "##                                 BiLSTM\n",
    "\n",
    "C1 = Bidirectional(layers.LSTM(200, return_sequences=True))(inp_bilstm)\n",
    "#C1 = Dropout(0.2)(C1)\n",
    "\n",
    "C2 = Bidirectional(layers.LSTM(200, return_sequences=True))(C1)\n",
    "#C2 = Dropout(0.2)(C2)\n",
    "\n",
    "C3 = Bidirectional(layers.LSTM(200, return_sequences=True))(C2)\n",
    "#C3 = Dropout(0.2)(C3)\n",
    "\n",
    "C4 = Bidirectional(layers.LSTM(200, return_sequences=False))(C3)\n",
    "\n",
    "C5 = layers.Dense(3, activation='relu')(C4)\n",
    "\n",
    "ourmodel = Model([input_sig1__1,input_sig2__1], outputs=C5)\n",
    "\n",
    "print(ourmodel.summary())"
   ]
  },
  {
   "cell_type": "code",
   "execution_count": null,
   "metadata": {},
   "outputs": [],
   "source": [
    "from tensorflow.keras.callbacks import EarlyStopping, ModelCheckpoint, ReduceLROnPlateau\n",
    "\n",
    "\n",
    "callbacks = [\n",
    "    EarlyStopping(patience=20, verbose=1),\n",
    "    ReduceLROnPlateau(factor=0.1, patience=5, min_lr=0.000000001, verbose=1),\n",
    "    ModelCheckpoint('BiLSTM__zComponent_concat.h5',monitor='val_loss',mode='min',save_best_only=True)\n",
    "]\n",
    "\n",
    "ourmodel.compile(optimizer='adam', loss='mae')\n",
    "history = ourmodel.fit([dataInput_reshape__1,dataInput_reshape2__1], label_train, batch_size=64, epochs=500,shuffle=True,validation_data=([dataInput_reshape_val__1,dataInput_reshape2_val__1],label_test) ,verbose=1,callbacks=callbacks)"
   ]
  },
  {
   "cell_type": "code",
   "execution_count": null,
   "metadata": {},
   "outputs": [],
   "source": [
    "out_train= ourmodel.predict([dataInput_reshape__1,dataInput_reshape2__1])\n",
    "\n",
    "out_test= ourmodel.predict([dataInput_reshape_val__1,dataInput_reshape2_val__1])"
   ]
  },
  {
   "cell_type": "code",
   "execution_count": null,
   "metadata": {},
   "outputs": [],
   "source": [
    "pred0 = ((out_test[:,0])*(max_lat-min_lat))+min_lat\n",
    "pred0 =np.reshape(pred0, (len(pred0), 1))\n",
    "pred1 = ((out_test[:,1])*(max_long-min_long))+min_long\n",
    "pred1 =np.reshape(pred1, (len(pred1), 1))\n",
    "pred2 = ((out_test[:,2])*(max_mag-min_mag))+min_mag\n",
    "pred2 =np.reshape(pred2, (len(pred2), 1))\n",
    "\n",
    "\n",
    "pred_orig = np.concatenate([pred0,pred1,pred2], axis=1)\n",
    "pred_orig"
   ]
  },
  {
   "cell_type": "code",
   "execution_count": null,
   "metadata": {},
   "outputs": [],
   "source": [
    "plt.plot(pred_orig[:,0],measure_orig[:,0],'.')\n",
    "plt.plot([measure_orig[:,0].min(), measure_orig[:,0].max()], [measure_orig[:,0].min(), measure_orig[:,0].max()], 'k--', lw=4)\n",
    "\n",
    "\n",
    "plt.xlabel('Predicted Latitude', fontsize=14,fontweight=\"bold\")\n",
    "plt.ylabel('Measured Latitude', fontsize=14,fontweight=\"bold\")\n",
    "\n",
    "#################################################################\n",
    "#################################################################\n",
    "                      \n",
    "plt.xticks(fontsize=14,fontweight=\"bold\")\n",
    "plt.yticks(fontsize=14,fontweight=\"bold\")\n",
    "plt.savefig(\"diag_lat.pdf\",bbox_inches='tight')\n",
    "plt.show()"
   ]
  }
 ],
 "metadata": {
  "kernelspec": {
   "display_name": "tf39",
   "language": "python",
   "name": "tf39"
  },
  "language_info": {
   "codemirror_mode": {
    "name": "ipython",
    "version": 3
   },
   "file_extension": ".py",
   "mimetype": "text/x-python",
   "name": "python",
   "nbconvert_exporter": "python",
   "pygments_lexer": "ipython3",
   "version": "3.9.13"
  }
 },
 "nbformat": 4,
 "nbformat_minor": 4
}
